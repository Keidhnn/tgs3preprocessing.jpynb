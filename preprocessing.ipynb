{
  "nbformat": 4,
  "nbformat_minor": 0,
  "metadata": {
    "colab": {
      "provenance": [],
      "authorship_tag": "ABX9TyMcjgI9+Fe1a6PaxJaZkgUM",
      "include_colab_link": true
    },
    "kernelspec": {
      "name": "python3",
      "display_name": "Python 3"
    },
    "language_info": {
      "name": "python"
    }
  },
  "cells": [
    {
      "cell_type": "markdown",
      "metadata": {
        "id": "view-in-github",
        "colab_type": "text"
      },
      "source": [
        "<a href=\"https://colab.research.google.com/github/Keidhnn/tgs3preprocessing.jpynb/blob/main/preprocessing.ipynb\" target=\"_parent\"><img src=\"https://colab.research.google.com/assets/colab-badge.svg\" alt=\"Open In Colab\"/></a>"
      ]
    },
    {
      "cell_type": "markdown",
      "source": [
        "Persiapan Dataset"
      ],
      "metadata": {
        "id": "xJfhY6EuN7qE"
      }
    },
    {
      "cell_type": "code",
      "execution_count": null,
      "metadata": {
        "id": "NXPdI6xLNIF5"
      },
      "outputs": [],
      "source": [
        "# preprocessing.ipynb / preprocessing.py\n",
        "\n",
        "import pandas as pd\n",
        "from sklearn.datasets import load_iris\n",
        "from sklearn.preprocessing import StandardScaler, MinMaxScaler\n",
        "from sklearn.model_selection import train_test_split\n",
        "\n",
        "iris = load_iris()\n",
        "\n",
        "df = pd.DataFrame(data=iris.data, columns=iris.feature_names)\n",
        "df['target'] = iris.target\n",
        "df['species'] = df['target'].apply(lambda x: iris.target_names[x])\n",
        "\n",
        "print(\"--- Informasi Dataset Awal ---\")\n",
        "print(f\"Jumlah Baris dan Kolom: {df.shape}\")\n",
        "print(\"\\n5 Baris Data Pertama:\")\n",
        "print(df.head())"
      ]
    },
    {
      "cell_type": "markdown",
      "source": [
        "Data Cleaning"
      ],
      "metadata": {
        "id": "-5-PTogqNyaA"
      }
    },
    {
      "cell_type": "code",
      "source": [
        "# 3.1. Penanganan Nilai Hilang (Missing Values)\n",
        "print(\"\\n--- Hasil Cek Nilai Hilang ---\")\n",
        "# Cek jumlah nilai hilang per kolom\n",
        "print(df.isnull().sum())\n",
        "# Karena output menunjukkan 0 untuk semua kolom, tidak ada tindakan imputasi yang diperlukan.\n",
        "\n",
        "# 3.2. Penanganan Data Duplikat\n",
        "print(\"\\n--- Penanganan Duplikat ---\")\n",
        "duplicate_count = df.duplicated().sum()\n",
        "print(f\"Jumlah Baris Duplikat: {duplicate_count}\")\n",
        "\n",
        "# Hapus duplikasi jika ada (kecuali duplikat di kolom 'species' dan 'target')\n",
        "# Kita hapus duplikat berdasarkan semua kolom\n",
        "df.drop_duplicates(inplace=True)\n",
        "print(f\"Jumlah Baris Setelah Duplikasi Dihapus: {len(df)}\")"
      ],
      "metadata": {
        "id": "xeD1otpcNgIH"
      },
      "execution_count": null,
      "outputs": []
    },
    {
      "cell_type": "markdown",
      "source": [
        "Data Transformation"
      ],
      "metadata": {
        "id": "hC3Fg9TxNoCc"
      }
    },
    {
      "cell_type": "code",
      "source": [
        "# Fitur numerik yang akan di-scale\n",
        "features = ['sepal length (cm)', 'sepal width (cm)', 'petal length (cm)', 'petal width (cm)']\n",
        "X = df[features].reset_index(drop=True)\n",
        "\n",
        "# 4.1. Standarisasi (StandardScaler / Z-Score)\n",
        "# Mengubah data sehingga rata-rata = 0 dan standar deviasi = 1.\n",
        "scaler_standard = StandardScaler()\n",
        "X_standardized = scaler_standard.fit_transform(X)\n",
        "df_standardized = pd.DataFrame(X_standardized, columns=[f'{f}_std' for f in features])\n",
        "\n",
        "print(\"\\n--- 4.1 Data Hasil Standarisasi (5 Baris) ---\")\n",
        "print(df_standardized.head())\n",
        "\n",
        "# 4.2. Normalisasi (MinMaxScaler)\n",
        "# Mengubah data sehingga rentangnya menjadi 0 hingga 1.\n",
        "scaler_minmax = MinMaxScaler()\n",
        "X_normalized = scaler_minmax.fit_transform(X)\n",
        "df_normalized = pd.DataFrame(X_normalized, columns=[f'{f}_norm' for f in features])\n",
        "\n",
        "print(\"\\n--- 4.2 Data Hasil Normalisasi (5 Baris) ---\")\n",
        "print(df_normalized.head())"
      ],
      "metadata": {
        "id": "cTjlDB5nNv5b"
      },
      "execution_count": null,
      "outputs": []
    },
    {
      "cell_type": "markdown",
      "source": [
        "Data Reduction"
      ],
      "metadata": {
        "id": "wwmR0RieOCwq"
      }
    },
    {
      "cell_type": "code",
      "source": [
        "# 5. Reduksi Sampel (Train-Test Split)\n",
        "X_final = df[features] # Fitur\n",
        "y_final = df['target'] # Target\n",
        "\n",
        "# Memisahkan data menjadi 80% data latih (training) dan 20% data uji (testing)\n",
        "X_train, X_test, y_train, y_test = train_test_split(X_final, y_final, test_size=0.2, random_state=42)\n",
        "\n",
        "print(\"\\n--- 5. Hasil Reduksi Sampel (Split Data) ---\")\n",
        "print(f\"Jumlah data training (80%): {len(X_train)} baris\")\n",
        "print(f\"Jumlah data testing (20%): {len(X_test)} baris\")\n",
        "\n",
        "# (Opsional) Gabungkan data hasil preprocessing ke dalam DataFrame akhir\n",
        "df_final_preprocessed = pd.concat([df.reset_index(drop=True), df_standardized.reset_index(drop=True)], axis=1)\n",
        "# df_final_preprocessed.to_csv('iris_preprocessed.csv', index=False)"
      ],
      "metadata": {
        "id": "dxgqnIuCOI0y"
      },
      "execution_count": null,
      "outputs": []
    }
  ]
}